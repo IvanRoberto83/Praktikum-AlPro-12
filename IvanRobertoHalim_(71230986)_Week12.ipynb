{
  "nbformat": 4,
  "nbformat_minor": 0,
  "metadata": {
    "colab": {
      "provenance": []
    },
    "kernelspec": {
      "name": "python3",
      "display_name": "Python 3"
    },
    "language_info": {
      "name": "python"
    }
  },
  "cells": [
    {
      "cell_type": "code",
      "execution_count": 1,
      "metadata": {
        "colab": {
          "base_uri": "https://localhost:8080/"
        },
        "id": "tHy_qxvoix5k",
        "outputId": "d88db04c-29f6-49e0-d81a-012f408bd639"
      },
      "outputs": [
        {
          "output_type": "stream",
          "name": "stdout",
          "text": [
            "True\n"
          ]
        }
      ],
      "source": [
        "#Soal 1\n",
        "\n",
        "tA = (90,90,90,90)\n",
        "x = tA[0]\n",
        "\n",
        "for i in tA:\n",
        "    if i != x:\n",
        "        print(False)\n",
        "        break\n",
        "else:\n",
        "    print(True)"
      ]
    },
    {
      "cell_type": "code",
      "source": [
        "#Soal 2\n",
        "\n",
        "data = ('Ivan Roberto Halim', '71230986', 'Kasihan, Bantul, DI Yogyakarta')\n",
        "\n",
        "print(f'Data: {data}\\n')\n",
        "print(f'NIM\\t: {data[1]}')\n",
        "print(f'NAMA\\t: {data[0]}')\n",
        "print(f'ALAMAT\\t: {data[2]}\\n')\n",
        "\n",
        "print(f'NIM: {tuple(data[1])}')\n",
        "print(f'NAMA DEPAN: {tuple(data[0][:4])}')\n",
        "print(f'NAMA TERBALIK: {tuple(data[0].split()[::-1])}')"
      ],
      "metadata": {
        "colab": {
          "base_uri": "https://localhost:8080/"
        },
        "id": "jw9jv7sTjDNI",
        "outputId": "5698da95-4604-4fda-8e46-241bc6a16ff2"
      },
      "execution_count": 2,
      "outputs": [
        {
          "output_type": "stream",
          "name": "stdout",
          "text": [
            "Data: ('Ivan Roberto Halim', '71230986', 'Kasihan, Bantul, DI Yogyakarta')\n",
            "\n",
            "NIM\t: 71230986\n",
            "NAMA\t: Ivan Roberto Halim\n",
            "ALAMAT\t: Kasihan, Bantul, DI Yogyakarta\n",
            "\n",
            "NIM: ('7', '1', '2', '3', '0', '9', '8', '6')\n",
            "NAMA DEPAN: ('I', 'v', 'a', 'n')\n",
            "NAMA TERBALIK: ('Halim', 'Roberto', 'Ivan')\n"
          ]
        }
      ]
    }
  ]
}